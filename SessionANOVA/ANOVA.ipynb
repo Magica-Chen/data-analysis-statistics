{
 "cells": [
  {
   "cell_type": "markdown",
   "id": "094f8e02",
   "metadata": {},
   "source": [
    "# ANOVA Example"
   ]
  },
  {
   "cell_type": "markdown",
   "id": "e2bc1baa",
   "metadata": {},
   "source": [
    "Suppose a bank has several branches, and each branch offers personal loans with varying interest rates. We want to understand if the mean interest rates are significantly different across these branches."
   ]
  },
  {
   "cell_type": "markdown",
   "id": "2ea39007",
   "metadata": {},
   "source": [
    "Groups for ANOVA: We will compare the mean interest rate offered by different branches. Let's assume the bank has three branches: Branch A, Branch B, and Branch C."
   ]
  },
  {
   "cell_type": "code",
   "execution_count": 1,
   "id": "deed317d",
   "metadata": {},
   "outputs": [],
   "source": [
    "import pandas as pd\n",
    "import scipy.stats as stats"
   ]
  },
  {
   "cell_type": "code",
   "execution_count": 3,
   "id": "1a38d2a9",
   "metadata": {},
   "outputs": [
    {
     "data": {
      "text/html": [
       "<div>\n",
       "<style scoped>\n",
       "    .dataframe tbody tr th:only-of-type {\n",
       "        vertical-align: middle;\n",
       "    }\n",
       "\n",
       "    .dataframe tbody tr th {\n",
       "        vertical-align: top;\n",
       "    }\n",
       "\n",
       "    .dataframe thead th {\n",
       "        text-align: right;\n",
       "    }\n",
       "</style>\n",
       "<table border=\"1\" class=\"dataframe\">\n",
       "  <thead>\n",
       "    <tr style=\"text-align: right;\">\n",
       "      <th></th>\n",
       "      <th>Branch</th>\n",
       "      <th>Interest_Rate</th>\n",
       "    </tr>\n",
       "  </thead>\n",
       "  <tbody>\n",
       "    <tr>\n",
       "      <th>0</th>\n",
       "      <td>Branch A</td>\n",
       "      <td>6.205621</td>\n",
       "    </tr>\n",
       "    <tr>\n",
       "      <th>1</th>\n",
       "      <td>Branch A</td>\n",
       "      <td>5.660063</td>\n",
       "    </tr>\n",
       "    <tr>\n",
       "      <th>2</th>\n",
       "      <td>Branch A</td>\n",
       "      <td>5.891495</td>\n",
       "    </tr>\n",
       "    <tr>\n",
       "      <th>3</th>\n",
       "      <td>Branch A</td>\n",
       "      <td>6.396357</td>\n",
       "    </tr>\n",
       "    <tr>\n",
       "      <th>4</th>\n",
       "      <td>Branch A</td>\n",
       "      <td>6.247023</td>\n",
       "    </tr>\n",
       "    <tr>\n",
       "      <th>...</th>\n",
       "      <td>...</td>\n",
       "      <td>...</td>\n",
       "    </tr>\n",
       "    <tr>\n",
       "      <th>85</th>\n",
       "      <td>Branch C</td>\n",
       "      <td>6.558356</td>\n",
       "    </tr>\n",
       "    <tr>\n",
       "      <th>86</th>\n",
       "      <td>Branch C</td>\n",
       "      <td>6.271512</td>\n",
       "    </tr>\n",
       "    <tr>\n",
       "      <th>87</th>\n",
       "      <td>Branch C</td>\n",
       "      <td>5.728030</td>\n",
       "    </tr>\n",
       "    <tr>\n",
       "      <th>88</th>\n",
       "      <td>Branch C</td>\n",
       "      <td>5.371699</td>\n",
       "    </tr>\n",
       "    <tr>\n",
       "      <th>89</th>\n",
       "      <td>Branch C</td>\n",
       "      <td>6.221781</td>\n",
       "    </tr>\n",
       "  </tbody>\n",
       "</table>\n",
       "<p>90 rows × 2 columns</p>\n",
       "</div>"
      ],
      "text/plain": [
       "      Branch  Interest_Rate\n",
       "0   Branch A       6.205621\n",
       "1   Branch A       5.660063\n",
       "2   Branch A       5.891495\n",
       "3   Branch A       6.396357\n",
       "4   Branch A       6.247023\n",
       "..       ...            ...\n",
       "85  Branch C       6.558356\n",
       "86  Branch C       6.271512\n",
       "87  Branch C       5.728030\n",
       "88  Branch C       5.371699\n",
       "89  Branch C       6.221781\n",
       "\n",
       "[90 rows x 2 columns]"
      ]
     },
     "execution_count": 3,
     "metadata": {},
     "output_type": "execute_result"
    }
   ],
   "source": [
    "df = pd.read_csv('banking_interest_rates.csv')\n",
    "df"
   ]
  },
  {
   "cell_type": "code",
   "execution_count": 4,
   "id": "d3f5e2d2",
   "metadata": {},
   "outputs": [],
   "source": [
    "A_interest = df[df['Branch'] == 'Branch A']['Interest_Rate']\n",
    "B_interest = df[df['Branch'] == 'Branch B']['Interest_Rate']\n",
    "C_interest = df[df['Branch'] == 'Branch C']['Interest_Rate']"
   ]
  },
  {
   "cell_type": "code",
   "execution_count": 5,
   "id": "c2b88e47",
   "metadata": {},
   "outputs": [
    {
     "data": {
      "text/plain": [
       "(2.097882588257023, 0.12888111157589846)"
      ]
     },
     "execution_count": 5,
     "metadata": {},
     "output_type": "execute_result"
    }
   ],
   "source": [
    "F, p = stats.f_oneway(A_interest,B_interest, C_interest)\n",
    "F, p"
   ]
  },
  {
   "cell_type": "markdown",
   "id": "8fa1e49c",
   "metadata": {},
   "source": [
    "Interpret Results:\n",
    "\n",
    "- If the p-value (p) is less than a significance level (commonly 0.05), it suggests that there are significant differences in the mean interest rates across the branches.\n",
    "- If p is greater than this threshold, it suggests no significant difference."
   ]
  },
  {
   "cell_type": "markdown",
   "id": "9e57abd0",
   "metadata": {},
   "source": [
    "So in this case, we can conclude that there is no significant difference between the interst rates of different branches"
   ]
  },
  {
   "cell_type": "markdown",
   "id": "dd8b8696",
   "metadata": {},
   "source": [
    "# Using other package to run ANOVA"
   ]
  },
  {
   "cell_type": "code",
   "execution_count": 7,
   "id": "e220de8b",
   "metadata": {},
   "outputs": [
    {
     "data": {
      "text/html": [
       "<div>\n",
       "<style scoped>\n",
       "    .dataframe tbody tr th:only-of-type {\n",
       "        vertical-align: middle;\n",
       "    }\n",
       "\n",
       "    .dataframe tbody tr th {\n",
       "        vertical-align: top;\n",
       "    }\n",
       "\n",
       "    .dataframe thead th {\n",
       "        text-align: right;\n",
       "    }\n",
       "</style>\n",
       "<table border=\"1\" class=\"dataframe\">\n",
       "  <thead>\n",
       "    <tr style=\"text-align: right;\">\n",
       "      <th></th>\n",
       "      <th>Branch</th>\n",
       "      <th>Interest_Rate</th>\n",
       "    </tr>\n",
       "  </thead>\n",
       "  <tbody>\n",
       "    <tr>\n",
       "      <th>0</th>\n",
       "      <td>Branch A</td>\n",
       "      <td>6.205621</td>\n",
       "    </tr>\n",
       "    <tr>\n",
       "      <th>1</th>\n",
       "      <td>Branch A</td>\n",
       "      <td>5.660063</td>\n",
       "    </tr>\n",
       "    <tr>\n",
       "      <th>2</th>\n",
       "      <td>Branch A</td>\n",
       "      <td>5.891495</td>\n",
       "    </tr>\n",
       "    <tr>\n",
       "      <th>3</th>\n",
       "      <td>Branch A</td>\n",
       "      <td>6.396357</td>\n",
       "    </tr>\n",
       "    <tr>\n",
       "      <th>4</th>\n",
       "      <td>Branch A</td>\n",
       "      <td>6.247023</td>\n",
       "    </tr>\n",
       "    <tr>\n",
       "      <th>...</th>\n",
       "      <td>...</td>\n",
       "      <td>...</td>\n",
       "    </tr>\n",
       "    <tr>\n",
       "      <th>85</th>\n",
       "      <td>Branch C</td>\n",
       "      <td>6.558356</td>\n",
       "    </tr>\n",
       "    <tr>\n",
       "      <th>86</th>\n",
       "      <td>Branch C</td>\n",
       "      <td>6.271512</td>\n",
       "    </tr>\n",
       "    <tr>\n",
       "      <th>87</th>\n",
       "      <td>Branch C</td>\n",
       "      <td>5.728030</td>\n",
       "    </tr>\n",
       "    <tr>\n",
       "      <th>88</th>\n",
       "      <td>Branch C</td>\n",
       "      <td>5.371699</td>\n",
       "    </tr>\n",
       "    <tr>\n",
       "      <th>89</th>\n",
       "      <td>Branch C</td>\n",
       "      <td>6.221781</td>\n",
       "    </tr>\n",
       "  </tbody>\n",
       "</table>\n",
       "<p>90 rows × 2 columns</p>\n",
       "</div>"
      ],
      "text/plain": [
       "      Branch  Interest_Rate\n",
       "0   Branch A       6.205621\n",
       "1   Branch A       5.660063\n",
       "2   Branch A       5.891495\n",
       "3   Branch A       6.396357\n",
       "4   Branch A       6.247023\n",
       "..       ...            ...\n",
       "85  Branch C       6.558356\n",
       "86  Branch C       6.271512\n",
       "87  Branch C       5.728030\n",
       "88  Branch C       5.371699\n",
       "89  Branch C       6.221781\n",
       "\n",
       "[90 rows x 2 columns]"
      ]
     },
     "execution_count": 7,
     "metadata": {},
     "output_type": "execute_result"
    }
   ],
   "source": [
    "df"
   ]
  },
  {
   "cell_type": "code",
   "execution_count": 6,
   "id": "3cd9db70",
   "metadata": {},
   "outputs": [
    {
     "data": {
      "text/html": [
       "<div>\n",
       "<style scoped>\n",
       "    .dataframe tbody tr th:only-of-type {\n",
       "        vertical-align: middle;\n",
       "    }\n",
       "\n",
       "    .dataframe tbody tr th {\n",
       "        vertical-align: top;\n",
       "    }\n",
       "\n",
       "    .dataframe thead th {\n",
       "        text-align: right;\n",
       "    }\n",
       "</style>\n",
       "<table border=\"1\" class=\"dataframe\">\n",
       "  <thead>\n",
       "    <tr style=\"text-align: right;\">\n",
       "      <th></th>\n",
       "      <th>sum_sq</th>\n",
       "      <th>df</th>\n",
       "      <th>F</th>\n",
       "      <th>PR(&gt;F)</th>\n",
       "    </tr>\n",
       "  </thead>\n",
       "  <tbody>\n",
       "    <tr>\n",
       "      <th>C(Branch)</th>\n",
       "      <td>0.666369</td>\n",
       "      <td>2.0</td>\n",
       "      <td>2.097883</td>\n",
       "      <td>0.128881</td>\n",
       "    </tr>\n",
       "    <tr>\n",
       "      <th>Residual</th>\n",
       "      <td>13.817291</td>\n",
       "      <td>87.0</td>\n",
       "      <td>NaN</td>\n",
       "      <td>NaN</td>\n",
       "    </tr>\n",
       "  </tbody>\n",
       "</table>\n",
       "</div>"
      ],
      "text/plain": [
       "              sum_sq    df         F    PR(>F)\n",
       "C(Branch)   0.666369   2.0  2.097883  0.128881\n",
       "Residual   13.817291  87.0       NaN       NaN"
      ]
     },
     "execution_count": 6,
     "metadata": {},
     "output_type": "execute_result"
    }
   ],
   "source": [
    "from scipy.stats import f_oneway\n",
    "import statsmodels.api as sm\n",
    "from statsmodels.formula.api import ols\n",
    "\n",
    "# Fitting the ANOVA model\n",
    "model = ols('Interest_Rate ~ C(Branch)', data=df).fit()\n",
    "\n",
    "# Performing ANOVA and getting the ANOVA table\n",
    "anova_table = sm.stats.anova_lm(model, typ=2)\n",
    "\n",
    "anova_table"
   ]
  },
  {
   "cell_type": "markdown",
   "id": "7f3fcf27",
   "metadata": {},
   "source": [
    "#### Interpretation:"
   ]
  },
  {
   "cell_type": "markdown",
   "id": "aaca36ef",
   "metadata": {},
   "source": [
    "- **Sum of Squares (Sum_sq):** This column represents the total variation attributed to each source (between branches and within branches).\n",
    "- **Degrees of Freedom (df):** Reflects the number of levels in the factor (for 'C(Branch)', it's 2, representing the three branches) and the residual degrees of freedom.\n",
    "- **F value:** This is the calculated statistic for the ANOVA test. A higher F value usually indicates a more significant difference between the group means.\n",
    "- **p-value (PR(>F)):** The p-value indicates the probability of observing the data if the null hypothesis is true. In this case, the p-value is approximately 0.129.\n",
    "\n",
    "Since the p-value is greater than the common alpha level of 0.05, we fail to reject the null hypothesis. This suggests that there is no statistically significant difference in the mean interest rates offered by the three branches."
   ]
  },
  {
   "cell_type": "markdown",
   "id": "0e36f62c",
   "metadata": {},
   "source": [
    "#### ols(Interest_Rate ~ C(Branch), data=df).fit"
   ]
  },
  {
   "cell_type": "markdown",
   "id": "331a2817",
   "metadata": {},
   "source": [
    "The formula `'Interest_Rate ~ C(Branch)'` used in the context of ANOVA with Python's `statsmodels` library is a way to specify the model being tested. Let's break down its components:\n",
    "\n",
    "1. **`Interest_Rate`:** This is the dependent variable in the model. It represents the variable whose variation we are trying to explain. In your dataset, 'Interest_Rate' refers to the interest rates offered by different bank branches.\n",
    "\n",
    "2. **`~`:** This symbol is a separator in the formula and is read as \"modeled by\". It separates the left-hand side (the dependent variable) from the right-hand side (the independent variable or factors).\n",
    "\n",
    "3. **`C(Branch)`:** \n",
    "   - `Branch` is the independent variable or factor in the model. In this case, it represents the different branches of the bank.\n",
    "   - The `C()` function is used to indicate that 'Branch' is a categorical variable\n"
   ]
  },
  {
   "cell_type": "code",
   "execution_count": null,
   "id": "8ae35193",
   "metadata": {},
   "outputs": [],
   "source": []
  },
  {
   "cell_type": "markdown",
   "id": "f105e69d",
   "metadata": {},
   "source": [
    "# Inference for Variance"
   ]
  },
  {
   "cell_type": "markdown",
   "id": "a1aa457f",
   "metadata": {},
   "source": [
    "## Inference for Variance in a Single Population"
   ]
  },
  {
   "cell_type": "markdown",
   "id": "1886b12c",
   "metadata": {},
   "source": [
    "A bank wants to assess the consistency of loan approval times across its single branch. The goal is to determine if the variance in approval times is within an acceptable range."
   ]
  },
  {
   "cell_type": "markdown",
   "id": "89e37935",
   "metadata": {},
   "source": [
    "Data Assumptions\n",
    "- We have a sample of loan approval times (in days) from a single branch.\n",
    "- The sample size is, let's say, 30."
   ]
  },
  {
   "cell_type": "markdown",
   "id": "04f676f5",
   "metadata": {},
   "source": [
    "We will use the Chi-Square test for a single variance, which tests whether the population variance equals a specified value based on a sample variance."
   ]
  },
  {
   "cell_type": "code",
   "execution_count": 1,
   "id": "a13738ca",
   "metadata": {},
   "outputs": [],
   "source": [
    "import numpy as np\n",
    "from scipy.stats import chi2\n",
    "\n",
    "# Sample data for loan approval times (asuming we have the data)\n",
    "approval_times = np.array([3, 4, 2, 5, 4, 3, 5, 4, 3, 2, 4, 3, 5, 4, 3, 3, 4, 3, 5, 4, 3, 2, 4, 3, 5, 4, 3, 4, 3, 5])"
   ]
  },
  {
   "cell_type": "code",
   "execution_count": 2,
   "id": "94ae5426",
   "metadata": {},
   "outputs": [],
   "source": [
    "# Sample variance\n",
    "sample_variance = np.var(approval_times, ddof=1)\n",
    "\n",
    "# Assuming a hypothesized population variance\n",
    "hypothesized_variance = 4"
   ]
  },
  {
   "cell_type": "markdown",
   "id": "150c600b",
   "metadata": {},
   "source": [
    "Hypotheses\n",
    "- Null Hypothesis (H0): The variance of loan approval times is equal to the hypothesized variance (σ² = 4 days²).\n",
    "- Alternative Hypothesis (H1): The variance of loan approval times is not equal to the hypothesized variance (σ² ≠ 4 days²)."
   ]
  },
  {
   "cell_type": "code",
   "execution_count": 3,
   "id": "8823c4e8",
   "metadata": {},
   "outputs": [],
   "source": [
    "# Chi-square statistic\n",
    "chi_square_statistic = (len(approval_times) - 1) * sample_variance / hypothesized_variance"
   ]
  },
  {
   "cell_type": "code",
   "execution_count": 6,
   "id": "810c6393",
   "metadata": {},
   "outputs": [
    {
     "data": {
      "text/plain": [
       "6.241666666666666"
      ]
     },
     "execution_count": 6,
     "metadata": {},
     "output_type": "execute_result"
    }
   ],
   "source": [
    "chi_square_statistic "
   ]
  },
  {
   "cell_type": "code",
   "execution_count": 7,
   "id": "38750266",
   "metadata": {},
   "outputs": [
    {
     "data": {
      "text/plain": [
       "29"
      ]
     },
     "execution_count": 7,
     "metadata": {},
     "output_type": "execute_result"
    }
   ],
   "source": [
    "# Degrees of freedom\n",
    "df = len(approval_times) - 1\n",
    "df"
   ]
  },
  {
   "cell_type": "code",
   "execution_count": 8,
   "id": "4761df68",
   "metadata": {},
   "outputs": [],
   "source": [
    "# P-value\n",
    "p_value = chi2.sf(chi_square_statistic, df)"
   ]
  },
  {
   "cell_type": "code",
   "execution_count": 9,
   "id": "c438be3d",
   "metadata": {},
   "outputs": [
    {
     "data": {
      "text/plain": [
       "(6.241666666666666, 0.9999975856768911)"
      ]
     },
     "execution_count": 9,
     "metadata": {},
     "output_type": "execute_result"
    }
   ],
   "source": [
    "chi_square_statistic, p_value"
   ]
  },
  {
   "cell_type": "markdown",
   "id": "369498ce",
   "metadata": {},
   "source": [
    "**So what is your conclusion?**"
   ]
  },
  {
   "cell_type": "code",
   "execution_count": null,
   "id": "57e08a5b",
   "metadata": {},
   "outputs": [],
   "source": []
  },
  {
   "cell_type": "markdown",
   "id": "f1eafd2f",
   "metadata": {},
   "source": [
    "## Inference for Variance in Two Populations"
   ]
  },
  {
   "cell_type": "markdown",
   "id": "d091ea21",
   "metadata": {},
   "source": [
    "A bank operates two branches and wants to compare the variability in loan approval times between these two branches."
   ]
  },
  {
   "cell_type": "markdown",
   "id": "3c368295",
   "metadata": {},
   "source": [
    "Data Assumptions:\n",
    "- We have two independent samples of loan approval times from two branches.\n",
    "- The sample sizes are not necessarily the same."
   ]
  },
  {
   "cell_type": "markdown",
   "id": "737265be",
   "metadata": {},
   "source": [
    "We will use the F-test for equality of two variances, which compares the variances of two independent samples."
   ]
  },
  {
   "cell_type": "code",
   "execution_count": 10,
   "id": "3647c82b",
   "metadata": {},
   "outputs": [],
   "source": [
    "# Sample data for two branches (Let's assume we have such data)\n",
    "approval_times_branch1 = np.array([3, 4, 5, 2, 4, 5, 3, 4, 5, 3])\n",
    "approval_times_branch2 = np.array([4, 4, 5, 5, 4, 5, 4, 3, 4, 5, 4, 5])"
   ]
  },
  {
   "cell_type": "markdown",
   "id": "aaf650da",
   "metadata": {},
   "source": [
    "Hypotheses\n",
    "- Null Hypothesis (H0): The variances in loan approval times are equal across the two branches (σ₁² = σ₂²).\n",
    "- Alternative Hypothesis (H1): The variances in loan approval times are not equal across the two branches (σ₁² ≠ σ₂²)."
   ]
  },
  {
   "cell_type": "code",
   "execution_count": 11,
   "id": "5c65acc4",
   "metadata": {},
   "outputs": [
    {
     "data": {
      "text/plain": [
       "(2.514285714285715, 0.15173516176108715)"
      ]
     },
     "execution_count": 11,
     "metadata": {},
     "output_type": "execute_result"
    }
   ],
   "source": [
    "from scipy.stats import f\n",
    "\n",
    "# Sample variances\n",
    "variance_branch1 = np.var(approval_times_branch1, ddof=1)\n",
    "variance_branch2 = np.var(approval_times_branch2, ddof=1)\n",
    "\n",
    "# F-statistic\n",
    "F_statistic = variance_branch1 / variance_branch2\n",
    "\n",
    "# Degrees of freedom for both samples\n",
    "df1 = len(approval_times_branch1) - 1\n",
    "df2 = len(approval_times_branch2) - 1\n",
    "\n",
    "# P-value\n",
    "p_value = 2 * min(f.cdf(F_statistic, df1, df2), 1 - f.cdf(F_statistic, df1, df2))\n",
    "\n",
    "F_statistic, p_value"
   ]
  },
  {
   "cell_type": "markdown",
   "id": "4a092048",
   "metadata": {},
   "source": [
    "The reason why we should use `min` because it is the area of rejection area. This the way that we use to calculate p-value for non-symmetric distribution-based test"
   ]
  },
  {
   "cell_type": "markdown",
   "id": "9e76abb0",
   "metadata": {},
   "source": [
    "## Inference for Variance in >2 Populations"
   ]
  },
  {
   "cell_type": "markdown",
   "id": "70936b35",
   "metadata": {},
   "source": [
    "It is complicated!"
   ]
  },
  {
   "cell_type": "markdown",
   "id": "bfeb8a59",
   "metadata": {},
   "source": [
    "- Bartlett’s test: Compare the variances of k samples, where k can be more than two samples. The data must be normally distributed. The Levene test is an alternative to the Bartlett test that is less sensitive to departures from normality.\n",
    "You can follow https://docs.scipy.org/doc/scipy/reference/generated/scipy.stats.bartlett.html\n",
    "\n",
    "- Levene’s test: Compare the variances of k samples, where k can be more than two samples. It’s an alternative to the Bartlett’s test that is less sensitive to departures from normality.\n",
    "You can follow https://docs.scipy.org/doc/scipy/reference/generated/scipy.stats.levene.html\n",
    "\n",
    "\n",
    "- Fligner-Killeen test: a non-parametric test which is very robust against departures from normality.\n",
    "You can follow https://docs.scipy.org/doc/scipy/reference/generated/scipy.stats.fligner.html"
   ]
  },
  {
   "cell_type": "code",
   "execution_count": null,
   "id": "5279bba6",
   "metadata": {},
   "outputs": [],
   "source": []
  }
 ],
 "metadata": {
  "kernelspec": {
   "display_name": "Python 3 (ipykernel)",
   "language": "python",
   "name": "python3"
  },
  "language_info": {
   "codemirror_mode": {
    "name": "ipython",
    "version": 3
   },
   "file_extension": ".py",
   "mimetype": "text/x-python",
   "name": "python",
   "nbconvert_exporter": "python",
   "pygments_lexer": "ipython3",
   "version": "3.9.13"
  }
 },
 "nbformat": 4,
 "nbformat_minor": 5
}
